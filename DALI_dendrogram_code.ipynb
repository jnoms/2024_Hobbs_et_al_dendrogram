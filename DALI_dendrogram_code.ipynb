{
 "cells": [
  {
   "cell_type": "markdown",
   "metadata": {},
   "source": [
    "# Running DALI"
   ]
  },
  {
   "cell_type": "code",
   "execution_count": null,
   "metadata": {
    "vscode": {
     "languageId": "shellscript"
    }
   },
   "outputs": [],
   "source": [
    "# Import predicted structures, present in the strucs directory, to dali database format\n",
    "vpSAT/bin/dali_format_inputs.sh \\\n",
    "-d strucs \\\n",
    "-o db \\\n",
    "-s ligt_key.txt \n",
    "\n",
    "# Run DALI \n",
    "dali_matrix.sh \\\n",
    "-q db \\\n",
    "-o dali_results/ligTs \\\n",
    "-n 5\n",
    "\n",
    "# Parse the DALI output files\n",
    "sat.py aln_parse_dali_matrix \\\n",
    "-k ligt_key.txt \\\n",
    "-t dali_results/ligTs.newick_unrooted \\\n",
    "-T dali_results/ligTs.newick_unrooted.PARSED \\\n",
    "-m dali_results/ligTs.sim.txt \\\n",
    "-M dali_results/ligTs.sim.PARSED.txt"
   ]
  },
  {
   "cell_type": "markdown",
   "metadata": {},
   "source": [
    "# Plotting the Z-score similarity matrix"
   ]
  },
  {
   "cell_type": "code",
   "execution_count": null,
   "metadata": {},
   "outputs": [],
   "source": [
    "### The following is R code\n",
    "\n",
    "library(tidyverse)\n",
    "library(RColorBrewer)\n",
    "\n",
    "m <- read_tsv(\"dali_results/ligTs.sim.PARSED.txt\", col_names=\"\")\n",
    "\n",
    "order = m$...1\n",
    "\n",
    "colnames(m) <- c(\"name\" ,order)\n",
    "\n",
    "\n",
    "plt <- m %>%\n",
    "  pivot_longer(\n",
    "    -name,\n",
    "    names_to = \"name2\",\n",
    "    values_to = \"value\"\n",
    "  ) %>%\n",
    "  \n",
    "  mutate(name = factor(name, ordered=T, levels=order)) %>%\n",
    "  mutate(name2 = factor(name2, ordered=T, levels=rev(order))) %>%\n",
    "  \n",
    "  filter(name != name2) %>%\n",
    "\n",
    "  ggplot() +\n",
    "  \n",
    "  geom_tile(\n",
    "    aes(x=name, y=name2, fill=value)\n",
    "  ) +\n",
    "  \n",
    "  theme_minimal() + \n",
    "  theme(axis.text.x = element_blank(),\n",
    "        axis.ticks = element_blank(),\n",
    "        legend.position = \"top\",\n",
    "        axis.title = element_blank(),\n",
    "        panel.grid = element_blank()) +\n",
    "  labs(fill = \"Z\") +\n",
    "  scale_y_discrete(position = \"right\", expand = c(0,0)) +\n",
    "  scale_x_discrete(expand = c(0,0)) +\n",
    "  scale_fill_distiller(palette = \"YlGnBu\", trans=\"reverse\")\n",
    "  \n",
    "\n",
    "ggsave(\"dali_matrix.svg\", plt, height=10, width=12, units=\"in\")"
   ]
  }
 ],
 "metadata": {
  "language_info": {
   "name": "python"
  }
 },
 "nbformat": 4,
 "nbformat_minor": 2
}
